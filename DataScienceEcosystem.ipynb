{
 "cells": [
  {
   "cell_type": "markdown",
   "id": "946e471d-8576-4c84-8d66-8a769f30b6a9",
   "metadata": {},
   "source": [
    "# Data Science Tools and Ecosystem"
   ]
  },
  {
   "cell_type": "markdown",
   "id": "d5690df1-b126-442b-90e5-c38ea2005cff",
   "metadata": {},
   "source": [
    "In this notebook, Data Science Tools and Ecosystem are summarized."
   ]
  },
  {
   "cell_type": "markdown",
   "id": "a6725fd0-f9da-4af2-a096-d39e5d2df220",
   "metadata": {},
   "source": [
    "**Objectives:**\n",
    "\n",
    "- A mathematical operation was performed.\r",
    "- Some open-source tools were mentioned.\n",
    "- H1 and H3 styles were used for heading.\n",
    "- \n",
    "Minutes were converted to hou.\n",
    "- \r\n",
    "Some languages for data science were listed."
   ]
  },
  {
   "cell_type": "markdown",
   "id": "eb4a5d6e-7b93-4faf-ae19-01875912cd41",
   "metadata": {},
   "source": [
    "Some of the popular languages that Data Scientists use are:\n",
    "1. Java\n",
    "2. Scala\n",
    "3. C++\n",
    "4. JavaScript\n",
    "5. Julia"
   ]
  },
  {
   "cell_type": "markdown",
   "id": "862fd0a8-9597-4ba4-a92e-ac35ed91424f",
   "metadata": {},
   "source": [
    "Some of the commonly used libraries used by Data Scientists include:\n",
    "1. Matplotlib\n",
    "2. Pandas\n",
    "3. Numpy\n",
    "4. Tensor Flow\n",
    "5. Scipy"
   ]
  },
  {
   "cell_type": "markdown",
   "id": "6493b150-0f0f-47c3-9b33-dd0c78c49483",
   "metadata": {},
   "source": [
    "Data Science Tools\n",
    "| Data Science Tools | \n",
    "| -------------| \n",
    "| Apache AirFlow | \n",
    "| MySQL | \n",
    "| MongoDB | "
   ]
  },
  {
   "cell_type": "markdown",
   "id": "ba40751f-9512-4589-873f-867413c7fdfa",
   "metadata": {},
   "source": [
    "### Below are a few examples of evaluating arithmetic expressions in Python"
   ]
  },
  {
   "cell_type": "code",
   "execution_count": 1,
   "id": "7b5fb71f-f3c7-4779-9e15-e366f1550085",
   "metadata": {},
   "outputs": [
    {
     "data": {
      "text/plain": [
       "17"
      ]
     },
     "execution_count": 1,
     "metadata": {},
     "output_type": "execute_result"
    }
   ],
   "source": [
    "# This a simple arithmetic expression to mutiply then add integers\n",
    "(3*4)+5"
   ]
  },
  {
   "cell_type": "code",
   "execution_count": 4,
   "id": "e7d9c4fd-ea72-4a66-83e4-25ec4bb74d46",
   "metadata": {},
   "outputs": [
    {
     "name": "stdout",
     "output_type": "stream",
     "text": [
      "200 minutos equivalen a 3 horas y 20 minutos.\n"
     ]
    }
   ],
   "source": [
    "# This will convert 200 minutes to hours by diving by 60\n",
    "minutos = 200\n",
    "\n",
    "horas = minutos // 60\n",
    "minutos_restantes = minutos % 60\n",
    "\n",
    "print(f\"{minutos} minutos equivalen a {horas} horas y {minutos_restantes} minutos.\")"
   ]
  },
  {
   "cell_type": "markdown",
   "id": "94a2d4fc-fc97-46df-ad29-e36e4d77fc52",
   "metadata": {
    "jp-MarkdownHeadingCollapsed": true
   },
   "source": [
    "## Author\n",
    "Albarracin Federico"
   ]
  },
  {
   "cell_type": "code",
   "execution_count": null,
   "id": "21770ae7-4ab6-49d0-9b2c-509c83202197",
   "metadata": {},
   "outputs": [],
   "source": []
  }
 ],
 "metadata": {
  "kernelspec": {
   "display_name": "Python 3 (ipykernel)",
   "language": "python",
   "name": "python3"
  },
  "language_info": {
   "codemirror_mode": {
    "name": "ipython",
    "version": 3
   },
   "file_extension": ".py",
   "mimetype": "text/x-python",
   "name": "python",
   "nbconvert_exporter": "python",
   "pygments_lexer": "ipython3",
   "version": "3.11.7"
  }
 },
 "nbformat": 4,
 "nbformat_minor": 5
}
